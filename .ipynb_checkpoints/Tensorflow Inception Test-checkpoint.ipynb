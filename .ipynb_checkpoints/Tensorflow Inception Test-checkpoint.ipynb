{
 "cells": [
  {
   "cell_type": "markdown",
   "metadata": {},
   "source": [
    "# inceptionV3 preprocessing "
   ]
  },
  {
   "cell_type": "code",
   "execution_count": 1,
   "metadata": {},
   "outputs": [],
   "source": [
    "import tensorflow as tf\n",
    "from tensorflow.contrib.slim import nets\n",
    "slim = tf.contrib.slim\n",
    "from PIL import Image \n",
    "import numpy as np\n",
    "from preprocessing import inception_preprocessing"
   ]
  },
  {
   "cell_type": "code",
   "execution_count": 2,
   "metadata": {},
   "outputs": [],
   "source": [
    "inputs = tf.placeholder(\"float32\", shape=[None, None, 3], name=\"inputs\")\n",
    "preprocess_inputs = inception_preprocessing.preprocess_image(inputs, 299, 299, is_training=False)\n",
    "preprocess_inputs = tf.expand_dims(preprocess_inputs, 0)\n",
    "with slim.arg_scope(nets.inception.inception_v3_arg_scope()):\n",
    "    net, endpoints = nets.inception.inception_v3(preprocess_inputs, num_classes=1001, is_training=False)\n",
    "prob = tf.nn.softmax(net)"
   ]
  },
  {
   "cell_type": "code",
   "execution_count": 3,
   "metadata": {
    "scrolled": false
   },
   "outputs": [
    {
     "name": "stdout",
     "output_type": "stream",
     "text": [
      "INFO:tensorflow:Restoring parameters from inception_v3.ckpt\n"
     ]
    }
   ],
   "source": [
    "sess = tf.InteractiveSession()\n",
    "saver = tf.train.Saver()\n",
    "saver.restore(sess, \"inception_v3.ckpt\")"
   ]
  },
  {
   "cell_type": "code",
   "execution_count": 8,
   "metadata": {},
   "outputs": [],
   "source": [
    "im = Image.open(\"1.jpg\")\n",
    "im = np.array(im, dtype=np.float32) / 255"
   ]
  },
  {
   "cell_type": "code",
   "execution_count": 9,
   "metadata": {},
   "outputs": [],
   "source": [
    "t = sess.run(endpoints[\"Predictions\"], feed_dict={inputs:im})\n",
    "# t = sess.run(prob, feed_dict={inputs:im})"
   ]
  },
  {
   "cell_type": "code",
   "execution_count": 10,
   "metadata": {},
   "outputs": [
    {
     "data": {
      "text/plain": [
       "(array([0], dtype=int64), array([387], dtype=int64))"
      ]
     },
     "execution_count": 10,
     "metadata": {},
     "output_type": "execute_result"
    }
   ],
   "source": [
    "np.where(t==np.max(t))"
   ]
  },
  {
   "cell_type": "code",
   "execution_count": 11,
   "metadata": {},
   "outputs": [
    {
     "data": {
      "text/plain": [
       "0.85363925"
      ]
     },
     "execution_count": 11,
     "metadata": {},
     "output_type": "execute_result"
    }
   ],
   "source": [
    "t[0][387]"
   ]
  },
  {
   "cell_type": "code",
   "execution_count": 33,
   "metadata": {},
   "outputs": [],
   "source": []
  },
  {
   "cell_type": "code",
   "execution_count": null,
   "metadata": {},
   "outputs": [],
   "source": []
  },
  {
   "cell_type": "code",
   "execution_count": null,
   "metadata": {},
   "outputs": [],
   "source": []
  },
  {
   "cell_type": "markdown",
   "metadata": {},
   "source": [
    "# Keras Propressing for InceptionV3"
   ]
  },
  {
   "cell_type": "code",
   "execution_count": 14,
   "metadata": {},
   "outputs": [
    {
     "name": "stderr",
     "output_type": "stream",
     "text": [
      "Using TensorFlow backend.\n"
     ]
    }
   ],
   "source": [
    "import keras\n",
    "from keras.preprocessing import image\n",
    "from keras.applications.inception_v3 import InceptionV3, preprocess_input, decode_predictions\n",
    "import numpy as np"
   ]
  },
  {
   "cell_type": "code",
   "execution_count": 15,
   "metadata": {},
   "outputs": [
    {
     "name": "stdout",
     "output_type": "stream",
     "text": [
      "WARNING:tensorflow:From d:\\python\\lib\\site-packages\\keras\\backend\\tensorflow_backend.py:1349: calling reduce_mean (from tensorflow.python.ops.math_ops) with keep_dims is deprecated and will be removed in a future version.\n",
      "Instructions for updating:\n",
      "keep_dims is deprecated, use keepdims instead\n"
     ]
    }
   ],
   "source": [
    "model = InceptionV3(weights=None)\n",
    "model.load_weights('inception_v3_weights_tf_dim_ordering_tf_kernels.h5')"
   ]
  },
  {
   "cell_type": "code",
   "execution_count": 19,
   "metadata": {},
   "outputs": [],
   "source": [
    "im = image.load_img(\"1.jpg\", target_size=(299,299))\n",
    "im = image.img_to_array(im)\n",
    "im = np.expand_dims(im, axis=0)\n",
    "im = preprocess_input(im)"
   ]
  },
  {
   "cell_type": "code",
   "execution_count": 20,
   "metadata": {},
   "outputs": [
    {
     "name": "stdout",
     "output_type": "stream",
     "text": [
      "Predicted: [('n02504458', 'African_elephant', 0.97499096), ('n01871265', 'tusker', 0.016361132), ('n02504013', 'Indian_elephant', 0.0023547967)]\n"
     ]
    }
   ],
   "source": [
    "preds = model.predict(im)\n",
    "print('Predicted:', decode_predictions(preds, top=3)[0])"
   ]
  },
  {
   "cell_type": "code",
   "execution_count": 21,
   "metadata": {},
   "outputs": [
    {
     "data": {
      "text/plain": [
       "0.97499096"
      ]
     },
     "execution_count": 21,
     "metadata": {},
     "output_type": "execute_result"
    }
   ],
   "source": [
    "np.max(preds[0])"
   ]
  },
  {
   "cell_type": "code",
   "execution_count": null,
   "metadata": {},
   "outputs": [],
   "source": []
  },
  {
   "cell_type": "code",
   "execution_count": null,
   "metadata": {},
   "outputs": [],
   "source": []
  },
  {
   "cell_type": "code",
   "execution_count": null,
   "metadata": {},
   "outputs": [],
   "source": []
  },
  {
   "cell_type": "code",
   "execution_count": null,
   "metadata": {},
   "outputs": [],
   "source": []
  },
  {
   "cell_type": "code",
   "execution_count": null,
   "metadata": {},
   "outputs": [],
   "source": []
  },
  {
   "cell_type": "code",
   "execution_count": 1,
   "metadata": {},
   "outputs": [
    {
     "name": "stdout",
     "output_type": "stream",
     "text": [
      "tensor_name:  resnet_v1_50/block1/unit_2/bottleneck_v1/conv3/BatchNorm/gamma\n",
      "tensor_name:  resnet_v1_50/block4/unit_1/bottleneck_v1/conv1/weights\n",
      "tensor_name:  resnet_v1_50/block1/unit_2/bottleneck_v1/conv2/BatchNorm/moving_mean\n",
      "tensor_name:  resnet_v1_50/block1/unit_2/bottleneck_v1/conv1/BatchNorm/gamma\n",
      "tensor_name:  resnet_v1_50/block4/unit_3/bottleneck_v1/conv1/BatchNorm/moving_variance\n",
      "tensor_name:  resnet_v1_50/block3/unit_5/bottleneck_v1/conv2/BatchNorm/gamma\n",
      "tensor_name:  resnet_v1_50/block2/unit_2/bottleneck_v1/conv2/BatchNorm/moving_mean\n",
      "tensor_name:  resnet_v1_50/logits/weights\n",
      "tensor_name:  resnet_v1_50/block2/unit_1/bottleneck_v1/conv1/weights\n",
      "tensor_name:  resnet_v1_50/block2/unit_1/bottleneck_v1/conv1/BatchNorm/gamma\n",
      "tensor_name:  resnet_v1_50/block1/unit_2/bottleneck_v1/conv3/BatchNorm/moving_variance\n",
      "tensor_name:  resnet_v1_50/block2/unit_1/bottleneck_v1/conv1/BatchNorm/beta\n",
      "tensor_name:  resnet_v1_50/block3/unit_2/bottleneck_v1/conv3/BatchNorm/moving_variance\n",
      "tensor_name:  resnet_v1_50/block1/unit_3/bottleneck_v1/conv2/BatchNorm/moving_variance\n",
      "tensor_name:  resnet_v1_50/block4/unit_2/bottleneck_v1/conv3/BatchNorm/gamma\n",
      "tensor_name:  resnet_v1_50/block3/unit_6/bottleneck_v1/conv1/BatchNorm/moving_variance\n",
      "tensor_name:  resnet_v1_50/block3/unit_1/bottleneck_v1/conv1/weights\n",
      "tensor_name:  resnet_v1_50/block1/unit_2/bottleneck_v1/conv2/BatchNorm/beta\n",
      "tensor_name:  resnet_v1_50/block1/unit_3/bottleneck_v1/conv1/BatchNorm/moving_mean\n",
      "tensor_name:  resnet_v1_50/block3/unit_6/bottleneck_v1/conv2/BatchNorm/moving_mean\n",
      "tensor_name:  resnet_v1_50/block3/unit_1/bottleneck_v1/conv2/BatchNorm/moving_mean\n",
      "tensor_name:  resnet_v1_50/block4/unit_1/bottleneck_v1/conv3/BatchNorm/gamma\n",
      "tensor_name:  resnet_v1_50/block4/unit_2/bottleneck_v1/conv1/BatchNorm/gamma\n",
      "tensor_name:  resnet_v1_50/block4/unit_2/bottleneck_v1/conv2/BatchNorm/beta\n",
      "tensor_name:  resnet_v1_50/block3/unit_6/bottleneck_v1/conv3/BatchNorm/gamma\n",
      "tensor_name:  resnet_v1_50/block3/unit_6/bottleneck_v1/conv1/BatchNorm/beta\n",
      "tensor_name:  resnet_v1_50/block3/unit_3/bottleneck_v1/conv2/weights\n",
      "tensor_name:  resnet_v1_50/block3/unit_6/bottleneck_v1/conv2/BatchNorm/moving_variance\n",
      "tensor_name:  resnet_v1_50/block1/unit_1/bottleneck_v1/conv1/BatchNorm/moving_mean\n",
      "tensor_name:  resnet_v1_50/block3/unit_5/bottleneck_v1/conv2/BatchNorm/moving_mean\n",
      "tensor_name:  resnet_v1_50/block1/unit_3/bottleneck_v1/conv3/BatchNorm/moving_variance\n",
      "tensor_name:  resnet_v1_50/block1/unit_2/bottleneck_v1/conv3/weights\n",
      "tensor_name:  resnet_v1_50/block4/unit_3/bottleneck_v1/conv2/BatchNorm/moving_mean\n",
      "tensor_name:  resnet_v1_50/block3/unit_2/bottleneck_v1/conv2/BatchNorm/moving_variance\n",
      "tensor_name:  resnet_v1_50/block4/unit_3/bottleneck_v1/conv2/BatchNorm/beta\n",
      "tensor_name:  resnet_v1_50/block1/unit_1/bottleneck_v1/shortcut/weights\n",
      "tensor_name:  resnet_v1_50/block2/unit_1/bottleneck_v1/conv3/BatchNorm/beta\n",
      "tensor_name:  resnet_v1_50/block4/unit_1/bottleneck_v1/conv2/weights\n",
      "tensor_name:  resnet_v1_50/block2/unit_2/bottleneck_v1/conv2/weights\n",
      "tensor_name:  resnet_v1_50/block4/unit_3/bottleneck_v1/conv3/weights\n",
      "tensor_name:  resnet_v1_50/block3/unit_2/bottleneck_v1/conv3/BatchNorm/beta\n",
      "tensor_name:  resnet_v1_50/block4/unit_2/bottleneck_v1/conv1/BatchNorm/moving_variance\n",
      "tensor_name:  resnet_v1_50/block2/unit_3/bottleneck_v1/conv3/weights\n",
      "tensor_name:  resnet_v1_50/block4/unit_3/bottleneck_v1/conv3/BatchNorm/beta\n",
      "tensor_name:  resnet_v1_50/block1/unit_3/bottleneck_v1/conv3/weights\n",
      "tensor_name:  resnet_v1_50/block3/unit_4/bottleneck_v1/conv3/BatchNorm/moving_variance\n",
      "tensor_name:  resnet_v1_50/block2/unit_1/bottleneck_v1/conv3/BatchNorm/gamma\n",
      "tensor_name:  resnet_v1_50/block4/unit_1/bottleneck_v1/conv3/BatchNorm/moving_variance\n",
      "tensor_name:  resnet_v1_50/block4/unit_1/bottleneck_v1/shortcut/BatchNorm/moving_variance\n",
      "tensor_name:  resnet_v1_50/block3/unit_1/bottleneck_v1/conv3/BatchNorm/gamma\n",
      "tensor_name:  resnet_v1_50/block2/unit_2/bottleneck_v1/conv3/BatchNorm/beta\n",
      "tensor_name:  resnet_v1_50/block2/unit_4/bottleneck_v1/conv2/BatchNorm/beta\n",
      "tensor_name:  resnet_v1_50/block2/unit_2/bottleneck_v1/conv3/BatchNorm/moving_mean\n",
      "tensor_name:  resnet_v1_50/block1/unit_1/bottleneck_v1/conv3/weights\n",
      "tensor_name:  resnet_v1_50/block2/unit_1/bottleneck_v1/conv2/BatchNorm/beta\n",
      "tensor_name:  resnet_v1_50/block2/unit_1/bottleneck_v1/conv2/weights\n",
      "tensor_name:  resnet_v1_50/block4/unit_3/bottleneck_v1/conv2/weights\n",
      "tensor_name:  resnet_v1_50/block2/unit_3/bottleneck_v1/conv2/BatchNorm/beta\n",
      "tensor_name:  resnet_v1_50/block3/unit_3/bottleneck_v1/conv2/BatchNorm/moving_variance\n",
      "tensor_name:  resnet_v1_50/block1/unit_3/bottleneck_v1/conv1/BatchNorm/moving_variance\n",
      "tensor_name:  resnet_v1_50/block2/unit_3/bottleneck_v1/conv2/BatchNorm/moving_mean\n",
      "tensor_name:  resnet_v1_50/block2/unit_2/bottleneck_v1/conv1/BatchNorm/moving_variance\n",
      "tensor_name:  resnet_v1_50/block3/unit_2/bottleneck_v1/conv2/BatchNorm/moving_mean\n",
      "tensor_name:  resnet_v1_50/block3/unit_4/bottleneck_v1/conv3/BatchNorm/beta\n",
      "tensor_name:  resnet_v1_50/block3/unit_6/bottleneck_v1/conv1/BatchNorm/moving_mean\n",
      "tensor_name:  resnet_v1_50/conv1/BatchNorm/moving_mean\n",
      "tensor_name:  resnet_v1_50/block4/unit_3/bottleneck_v1/conv1/BatchNorm/moving_mean\n",
      "tensor_name:  resnet_v1_50/block1/unit_2/bottleneck_v1/conv1/BatchNorm/moving_variance\n",
      "tensor_name:  resnet_v1_50/block2/unit_3/bottleneck_v1/conv1/weights\n",
      "tensor_name:  resnet_v1_50/block3/unit_2/bottleneck_v1/conv1/weights\n",
      "tensor_name:  resnet_v1_50/logits/biases\n",
      "tensor_name:  resnet_v1_50/block4/unit_1/bottleneck_v1/shortcut/BatchNorm/gamma\n",
      "tensor_name:  resnet_v1_50/block3/unit_4/bottleneck_v1/conv1/BatchNorm/beta\n",
      "tensor_name:  resnet_v1_50/block4/unit_3/bottleneck_v1/conv3/BatchNorm/moving_variance\n",
      "tensor_name:  resnet_v1_50/block3/unit_1/bottleneck_v1/conv1/BatchNorm/gamma\n",
      "tensor_name:  resnet_v1_50/block2/unit_2/bottleneck_v1/conv3/BatchNorm/gamma\n",
      "tensor_name:  resnet_v1_50/block3/unit_4/bottleneck_v1/conv2/BatchNorm/beta\n",
      "tensor_name:  resnet_v1_50/block3/unit_2/bottleneck_v1/conv2/BatchNorm/beta\n",
      "tensor_name:  resnet_v1_50/block1/unit_2/bottleneck_v1/conv1/BatchNorm/beta\n",
      "tensor_name:  resnet_v1_50/block3/unit_1/bottleneck_v1/shortcut/BatchNorm/beta\n",
      "tensor_name:  resnet_v1_50/block4/unit_2/bottleneck_v1/conv1/weights\n",
      "tensor_name:  resnet_v1_50/block2/unit_2/bottleneck_v1/conv1/weights\n",
      "tensor_name:  resnet_v1_50/block3/unit_2/bottleneck_v1/conv3/BatchNorm/moving_mean\n",
      "tensor_name:  resnet_v1_50/block2/unit_3/bottleneck_v1/conv1/BatchNorm/gamma\n",
      "tensor_name:  resnet_v1_50/block1/unit_2/bottleneck_v1/conv1/BatchNorm/moving_mean\n",
      "tensor_name:  global_step\n",
      "tensor_name:  resnet_v1_50/block2/unit_3/bottleneck_v1/conv2/BatchNorm/gamma\n",
      "tensor_name:  resnet_v1_50/block1/unit_3/bottleneck_v1/conv3/BatchNorm/beta\n",
      "tensor_name:  resnet_v1_50/block1/unit_1/bottleneck_v1/conv1/weights\n",
      "tensor_name:  resnet_v1_50/block3/unit_5/bottleneck_v1/conv2/BatchNorm/moving_variance\n",
      "tensor_name:  resnet_v1_50/block1/unit_1/bottleneck_v1/shortcut/BatchNorm/moving_mean\n",
      "tensor_name:  resnet_v1_50/block2/unit_4/bottleneck_v1/conv1/weights\n",
      "tensor_name:  resnet_v1_50/block4/unit_3/bottleneck_v1/conv2/BatchNorm/gamma\n",
      "tensor_name:  resnet_v1_50/block1/unit_3/bottleneck_v1/conv2/BatchNorm/gamma\n",
      "tensor_name:  resnet_v1_50/block3/unit_3/bottleneck_v1/conv2/BatchNorm/beta\n",
      "tensor_name:  resnet_v1_50/block1/unit_1/bottleneck_v1/conv2/BatchNorm/gamma\n",
      "tensor_name:  resnet_v1_50/block3/unit_6/bottleneck_v1/conv3/BatchNorm/beta\n",
      "tensor_name:  resnet_v1_50/block2/unit_2/bottleneck_v1/conv2/BatchNorm/moving_variance\n",
      "tensor_name:  resnet_v1_50/block3/unit_4/bottleneck_v1/conv3/BatchNorm/moving_mean\n",
      "tensor_name:  resnet_v1_50/block1/unit_3/bottleneck_v1/conv2/weights\n",
      "tensor_name:  resnet_v1_50/block4/unit_1/bottleneck_v1/conv2/BatchNorm/moving_variance\n",
      "tensor_name:  resnet_v1_50/block2/unit_2/bottleneck_v1/conv2/BatchNorm/beta\n",
      "tensor_name:  resnet_v1_50/block3/unit_1/bottleneck_v1/conv3/BatchNorm/moving_variance\n",
      "tensor_name:  resnet_v1_50/block1/unit_1/bottleneck_v1/conv2/BatchNorm/moving_variance\n",
      "tensor_name:  resnet_v1_50/block3/unit_3/bottleneck_v1/conv1/BatchNorm/beta\n",
      "tensor_name:  resnet_v1_50/block3/unit_6/bottleneck_v1/conv2/BatchNorm/beta\n",
      "tensor_name:  resnet_v1_50/block1/unit_2/bottleneck_v1/conv1/weights\n",
      "tensor_name:  resnet_v1_50/block2/unit_4/bottleneck_v1/conv3/BatchNorm/moving_variance\n",
      "tensor_name:  resnet_v1_50/block4/unit_2/bottleneck_v1/conv2/BatchNorm/moving_mean\n",
      "tensor_name:  resnet_v1_50/block2/unit_1/bottleneck_v1/shortcut/weights\n",
      "tensor_name:  resnet_v1_50/block1/unit_1/bottleneck_v1/conv1/BatchNorm/gamma\n",
      "tensor_name:  resnet_v1_50/block2/unit_2/bottleneck_v1/conv3/weights\n",
      "tensor_name:  resnet_v1_50/block2/unit_4/bottleneck_v1/conv3/BatchNorm/beta\n",
      "tensor_name:  resnet_v1_50/block1/unit_3/bottleneck_v1/conv1/BatchNorm/beta\n",
      "tensor_name:  resnet_v1_50/block2/unit_3/bottleneck_v1/conv3/BatchNorm/gamma\n",
      "tensor_name:  resnet_v1_50/block2/unit_1/bottleneck_v1/conv2/BatchNorm/gamma\n",
      "tensor_name:  resnet_v1_50/block1/unit_1/bottleneck_v1/conv3/BatchNorm/beta\n",
      "tensor_name:  resnet_v1_50/block3/unit_3/bottleneck_v1/conv1/weights\n",
      "tensor_name:  resnet_v1_50/block3/unit_2/bottleneck_v1/conv1/BatchNorm/beta\n",
      "tensor_name:  resnet_v1_50/block4/unit_1/bottleneck_v1/conv3/BatchNorm/beta\n",
      "tensor_name:  resnet_v1_50/block3/unit_1/bottleneck_v1/conv3/weights\n",
      "tensor_name:  resnet_v1_50/block3/unit_5/bottleneck_v1/conv1/weights\n",
      "tensor_name:  resnet_v1_50/block4/unit_1/bottleneck_v1/conv1/BatchNorm/gamma\n",
      "tensor_name:  resnet_v1_50/block3/unit_4/bottleneck_v1/conv2/BatchNorm/gamma\n",
      "tensor_name:  resnet_v1_50/block4/unit_3/bottleneck_v1/conv3/BatchNorm/moving_mean\n",
      "tensor_name:  resnet_v1_50/block3/unit_1/bottleneck_v1/conv1/BatchNorm/beta\n",
      "tensor_name:  resnet_v1_50/block1/unit_1/bottleneck_v1/conv2/BatchNorm/beta\n",
      "tensor_name:  resnet_v1_50/block2/unit_4/bottleneck_v1/conv1/BatchNorm/moving_mean\n",
      "tensor_name:  resnet_v1_50/block2/unit_4/bottleneck_v1/conv1/BatchNorm/moving_variance\n",
      "tensor_name:  resnet_v1_50/conv1/BatchNorm/moving_variance\n",
      "tensor_name:  resnet_v1_50/block3/unit_1/bottleneck_v1/conv3/BatchNorm/moving_mean\n",
      "tensor_name:  resnet_v1_50/block4/unit_1/bottleneck_v1/conv1/BatchNorm/moving_mean\n",
      "tensor_name:  resnet_v1_50/block1/unit_2/bottleneck_v1/conv3/BatchNorm/beta\n",
      "tensor_name:  resnet_v1_50/block2/unit_4/bottleneck_v1/conv2/BatchNorm/moving_variance\n",
      "tensor_name:  resnet_v1_50/block1/unit_3/bottleneck_v1/conv2/BatchNorm/beta\n",
      "tensor_name:  resnet_v1_50/block4/unit_1/bottleneck_v1/conv1/BatchNorm/beta\n",
      "tensor_name:  resnet_v1_50/block2/unit_1/bottleneck_v1/conv3/BatchNorm/moving_variance\n",
      "tensor_name:  resnet_v1_50/block1/unit_1/bottleneck_v1/conv1/BatchNorm/beta\n",
      "tensor_name:  resnet_v1_50/block2/unit_1/bottleneck_v1/conv2/BatchNorm/moving_mean\n",
      "tensor_name:  resnet_v1_50/block3/unit_5/bottleneck_v1/conv1/BatchNorm/beta\n",
      "tensor_name:  resnet_v1_50/block3/unit_5/bottleneck_v1/conv3/BatchNorm/moving_variance\n",
      "tensor_name:  resnet_v1_50/block3/unit_1/bottleneck_v1/conv2/BatchNorm/moving_variance\n",
      "tensor_name:  resnet_v1_50/conv1/weights\n",
      "tensor_name:  resnet_v1_50/block1/unit_3/bottleneck_v1/conv1/weights\n",
      "tensor_name:  resnet_v1_50/block3/unit_4/bottleneck_v1/conv1/weights\n",
      "tensor_name:  resnet_v1_50/block2/unit_4/bottleneck_v1/conv3/weights\n",
      "tensor_name:  resnet_v1_50/block3/unit_5/bottleneck_v1/conv1/BatchNorm/moving_variance\n",
      "tensor_name:  resnet_v1_50/block3/unit_1/bottleneck_v1/shortcut/BatchNorm/gamma\n",
      "tensor_name:  resnet_v1_50/block4/unit_3/bottleneck_v1/conv1/weights\n",
      "tensor_name:  resnet_v1_50/block1/unit_3/bottleneck_v1/conv2/BatchNorm/moving_mean\n",
      "tensor_name:  resnet_v1_50/block2/unit_1/bottleneck_v1/conv2/BatchNorm/moving_variance\n",
      "tensor_name:  resnet_v1_50/block4/unit_2/bottleneck_v1/conv2/weights\n",
      "tensor_name:  resnet_v1_50/block3/unit_4/bottleneck_v1/conv2/weights\n",
      "tensor_name:  resnet_v1_50/block3/unit_6/bottleneck_v1/conv3/BatchNorm/moving_variance\n",
      "tensor_name:  resnet_v1_50/block4/unit_2/bottleneck_v1/conv3/weights\n",
      "tensor_name:  resnet_v1_50/block3/unit_3/bottleneck_v1/conv2/BatchNorm/gamma\n",
      "tensor_name:  resnet_v1_50/block2/unit_1/bottleneck_v1/shortcut/BatchNorm/beta\n",
      "tensor_name:  resnet_v1_50/block4/unit_3/bottleneck_v1/conv3/BatchNorm/gamma\n",
      "tensor_name:  resnet_v1_50/block3/unit_1/bottleneck_v1/conv1/BatchNorm/moving_variance\n",
      "tensor_name:  resnet_v1_50/block3/unit_5/bottleneck_v1/conv1/BatchNorm/moving_mean\n",
      "tensor_name:  resnet_v1_50/block3/unit_3/bottleneck_v1/conv3/BatchNorm/beta\n",
      "tensor_name:  resnet_v1_50/block2/unit_3/bottleneck_v1/conv3/BatchNorm/beta\n",
      "tensor_name:  resnet_v1_50/block4/unit_3/bottleneck_v1/conv2/BatchNorm/moving_variance\n",
      "tensor_name:  resnet_v1_50/block3/unit_6/bottleneck_v1/conv2/weights\n",
      "tensor_name:  resnet_v1_50/block3/unit_2/bottleneck_v1/conv2/BatchNorm/gamma\n",
      "tensor_name:  resnet_v1_50/block4/unit_2/bottleneck_v1/conv3/BatchNorm/moving_variance\n",
      "tensor_name:  resnet_v1_50/block1/unit_1/bottleneck_v1/shortcut/BatchNorm/gamma\n",
      "tensor_name:  resnet_v1_50/block1/unit_1/bottleneck_v1/conv3/BatchNorm/moving_mean\n",
      "tensor_name:  resnet_v1_50/block2/unit_4/bottleneck_v1/conv3/BatchNorm/moving_mean\n",
      "tensor_name:  resnet_v1_50/block3/unit_3/bottleneck_v1/conv1/BatchNorm/moving_mean\n",
      "tensor_name:  resnet_v1_50/block3/unit_5/bottleneck_v1/conv1/BatchNorm/gamma\n",
      "tensor_name:  resnet_v1_50/block2/unit_1/bottleneck_v1/conv3/BatchNorm/moving_mean\n",
      "tensor_name:  resnet_v1_50/block3/unit_6/bottleneck_v1/conv1/weights\n",
      "tensor_name:  resnet_v1_50/block1/unit_3/bottleneck_v1/conv3/BatchNorm/moving_mean\n",
      "tensor_name:  resnet_v1_50/block4/unit_1/bottleneck_v1/shortcut/BatchNorm/moving_mean\n",
      "tensor_name:  resnet_v1_50/block3/unit_2/bottleneck_v1/conv1/BatchNorm/gamma\n",
      "tensor_name:  resnet_v1_50/conv1/BatchNorm/gamma\n",
      "tensor_name:  resnet_v1_50/block3/unit_4/bottleneck_v1/conv1/BatchNorm/gamma\n",
      "tensor_name:  resnet_v1_50/block3/unit_5/bottleneck_v1/conv2/BatchNorm/beta\n",
      "tensor_name:  resnet_v1_50/block2/unit_1/bottleneck_v1/conv1/BatchNorm/moving_variance\n",
      "tensor_name:  resnet_v1_50/block4/unit_2/bottleneck_v1/conv1/BatchNorm/moving_mean\n",
      "tensor_name:  resnet_v1_50/block1/unit_1/bottleneck_v1/shortcut/BatchNorm/moving_variance\n",
      "tensor_name:  resnet_v1_50/block2/unit_1/bottleneck_v1/shortcut/BatchNorm/gamma\n",
      "tensor_name:  resnet_v1_50/block4/unit_1/bottleneck_v1/conv1/BatchNorm/moving_variance\n",
      "tensor_name:  resnet_v1_50/block3/unit_4/bottleneck_v1/conv3/BatchNorm/gamma\n",
      "tensor_name:  resnet_v1_50/block3/unit_6/bottleneck_v1/conv3/weights\n",
      "tensor_name:  resnet_v1_50/block4/unit_1/bottleneck_v1/shortcut/BatchNorm/beta\n",
      "tensor_name:  resnet_v1_50/block2/unit_2/bottleneck_v1/conv1/BatchNorm/beta\n",
      "tensor_name:  resnet_v1_50/block3/unit_6/bottleneck_v1/conv3/BatchNorm/moving_mean\n",
      "tensor_name:  resnet_v1_50/block2/unit_4/bottleneck_v1/conv1/BatchNorm/beta\n",
      "tensor_name:  resnet_v1_50/block1/unit_2/bottleneck_v1/conv2/BatchNorm/moving_variance\n",
      "tensor_name:  resnet_v1_50/block3/unit_2/bottleneck_v1/conv3/weights\n",
      "tensor_name:  resnet_v1_50/block4/unit_2/bottleneck_v1/conv1/BatchNorm/beta\n",
      "tensor_name:  resnet_v1_50/block4/unit_1/bottleneck_v1/conv2/BatchNorm/gamma\n",
      "tensor_name:  resnet_v1_50/block3/unit_3/bottleneck_v1/conv3/BatchNorm/moving_variance\n",
      "tensor_name:  resnet_v1_50/block3/unit_2/bottleneck_v1/conv2/weights\n",
      "tensor_name:  resnet_v1_50/block2/unit_3/bottleneck_v1/conv3/BatchNorm/moving_mean\n",
      "tensor_name:  resnet_v1_50/block3/unit_3/bottleneck_v1/conv1/BatchNorm/gamma\n",
      "tensor_name:  resnet_v1_50/block3/unit_1/bottleneck_v1/conv1/BatchNorm/moving_mean\n",
      "tensor_name:  resnet_v1_50/block3/unit_1/bottleneck_v1/conv2/BatchNorm/beta\n",
      "tensor_name:  resnet_v1_50/block2/unit_1/bottleneck_v1/conv1/BatchNorm/moving_mean\n",
      "tensor_name:  resnet_v1_50/block4/unit_1/bottleneck_v1/conv3/BatchNorm/moving_mean\n",
      "tensor_name:  resnet_v1_50/block1/unit_3/bottleneck_v1/conv1/BatchNorm/gamma\n",
      "tensor_name:  resnet_v1_50/block3/unit_2/bottleneck_v1/conv1/BatchNorm/moving_variance\n",
      "tensor_name:  resnet_v1_50/block3/unit_5/bottleneck_v1/conv3/BatchNorm/beta\n",
      "tensor_name:  resnet_v1_50/block2/unit_4/bottleneck_v1/conv2/BatchNorm/gamma\n",
      "tensor_name:  resnet_v1_50/block1/unit_2/bottleneck_v1/conv3/BatchNorm/moving_mean\n",
      "tensor_name:  resnet_v1_50/block4/unit_1/bottleneck_v1/shortcut/weights\n",
      "tensor_name:  resnet_v1_50/conv1/BatchNorm/beta\n",
      "tensor_name:  resnet_v1_50/block3/unit_6/bottleneck_v1/conv1/BatchNorm/gamma\n",
      "tensor_name:  resnet_v1_50/block3/unit_2/bottleneck_v1/conv3/BatchNorm/gamma\n",
      "tensor_name:  resnet_v1_50/block1/unit_2/bottleneck_v1/conv2/BatchNorm/gamma\n",
      "tensor_name:  resnet_v1_50/block3/unit_5/bottleneck_v1/conv3/weights\n",
      "tensor_name:  resnet_v1_50/block4/unit_2/bottleneck_v1/conv3/BatchNorm/beta\n",
      "tensor_name:  resnet_v1_50/block4/unit_3/bottleneck_v1/conv1/BatchNorm/beta\n",
      "tensor_name:  resnet_v1_50/block2/unit_4/bottleneck_v1/conv2/weights\n",
      "tensor_name:  resnet_v1_50/block3/unit_5/bottleneck_v1/conv2/weights\n",
      "tensor_name:  resnet_v1_50/block4/unit_1/bottleneck_v1/conv2/BatchNorm/beta\n",
      "tensor_name:  resnet_v1_50/block4/unit_1/bottleneck_v1/conv3/weights\n",
      "tensor_name:  resnet_v1_50/block2/unit_3/bottleneck_v1/conv3/BatchNorm/moving_variance\n",
      "tensor_name:  resnet_v1_50/block1/unit_1/bottleneck_v1/conv3/BatchNorm/moving_variance\n",
      "tensor_name:  resnet_v1_50/mean_rgb\n",
      "tensor_name:  resnet_v1_50/block2/unit_3/bottleneck_v1/conv1/BatchNorm/beta\n",
      "tensor_name:  resnet_v1_50/block3/unit_3/bottleneck_v1/conv1/BatchNorm/moving_variance\n",
      "tensor_name:  resnet_v1_50/block3/unit_4/bottleneck_v1/conv3/weights\n",
      "tensor_name:  resnet_v1_50/block3/unit_3/bottleneck_v1/conv3/BatchNorm/gamma\n",
      "tensor_name:  resnet_v1_50/block3/unit_5/bottleneck_v1/conv3/BatchNorm/moving_mean\n",
      "tensor_name:  resnet_v1_50/block2/unit_2/bottleneck_v1/conv2/BatchNorm/gamma\n",
      "tensor_name:  resnet_v1_50/block2/unit_1/bottleneck_v1/conv3/weights\n",
      "tensor_name:  resnet_v1_50/block3/unit_4/bottleneck_v1/conv1/BatchNorm/moving_variance\n",
      "tensor_name:  resnet_v1_50/block3/unit_1/bottleneck_v1/shortcut/BatchNorm/moving_variance\n",
      "tensor_name:  resnet_v1_50/block4/unit_2/bottleneck_v1/conv2/BatchNorm/moving_variance\n",
      "tensor_name:  resnet_v1_50/block1/unit_2/bottleneck_v1/conv2/weights\n",
      "tensor_name:  resnet_v1_50/block2/unit_2/bottleneck_v1/conv1/BatchNorm/moving_mean\n",
      "tensor_name:  resnet_v1_50/block1/unit_1/bottleneck_v1/conv2/BatchNorm/moving_mean\n",
      "tensor_name:  resnet_v1_50/block2/unit_3/bottleneck_v1/conv2/weights\n",
      "tensor_name:  resnet_v1_50/block2/unit_3/bottleneck_v1/conv1/BatchNorm/moving_variance\n",
      "tensor_name:  resnet_v1_50/block2/unit_4/bottleneck_v1/conv1/BatchNorm/gamma\n",
      "tensor_name:  resnet_v1_50/block3/unit_1/bottleneck_v1/shortcut/BatchNorm/moving_mean\n",
      "tensor_name:  resnet_v1_50/block1/unit_1/bottleneck_v1/conv1/BatchNorm/moving_variance\n",
      "tensor_name:  resnet_v1_50/block4/unit_1/bottleneck_v1/conv2/BatchNorm/moving_mean\n",
      "tensor_name:  resnet_v1_50/block1/unit_1/bottleneck_v1/conv3/BatchNorm/gamma\n",
      "tensor_name:  resnet_v1_50/block4/unit_3/bottleneck_v1/conv1/BatchNorm/gamma\n",
      "tensor_name:  resnet_v1_50/block3/unit_2/bottleneck_v1/conv1/BatchNorm/moving_mean\n",
      "tensor_name:  resnet_v1_50/block3/unit_4/bottleneck_v1/conv2/BatchNorm/moving_mean\n",
      "tensor_name:  resnet_v1_50/block4/unit_2/bottleneck_v1/conv3/BatchNorm/moving_mean\n",
      "tensor_name:  resnet_v1_50/block3/unit_1/bottleneck_v1/shortcut/weights\n",
      "tensor_name:  resnet_v1_50/block2/unit_4/bottleneck_v1/conv2/BatchNorm/moving_mean\n",
      "tensor_name:  resnet_v1_50/block2/unit_4/bottleneck_v1/conv3/BatchNorm/gamma\n",
      "tensor_name:  resnet_v1_50/block3/unit_1/bottleneck_v1/conv3/BatchNorm/beta\n",
      "tensor_name:  resnet_v1_50/block3/unit_1/bottleneck_v1/conv2/weights\n",
      "tensor_name:  resnet_v1_50/block2/unit_3/bottleneck_v1/conv1/BatchNorm/moving_mean\n",
      "tensor_name:  resnet_v1_50/block1/unit_1/bottleneck_v1/shortcut/BatchNorm/beta\n",
      "tensor_name:  resnet_v1_50/block2/unit_2/bottleneck_v1/conv1/BatchNorm/gamma\n",
      "tensor_name:  resnet_v1_50/block4/unit_2/bottleneck_v1/conv2/BatchNorm/gamma\n",
      "tensor_name:  resnet_v1_50/block2/unit_2/bottleneck_v1/conv3/BatchNorm/moving_variance\n",
      "tensor_name:  resnet_v1_50/block2/unit_1/bottleneck_v1/shortcut/BatchNorm/moving_mean\n",
      "tensor_name:  resnet_v1_50/block1/unit_3/bottleneck_v1/conv3/BatchNorm/gamma\n",
      "tensor_name:  resnet_v1_50/block1/unit_1/bottleneck_v1/conv2/weights\n",
      "tensor_name:  resnet_v1_50/block3/unit_4/bottleneck_v1/conv1/BatchNorm/moving_mean\n",
      "tensor_name:  resnet_v1_50/block3/unit_3/bottleneck_v1/conv3/weights\n",
      "tensor_name:  resnet_v1_50/block3/unit_3/bottleneck_v1/conv2/BatchNorm/moving_mean\n",
      "tensor_name:  resnet_v1_50/block2/unit_1/bottleneck_v1/shortcut/BatchNorm/moving_variance\n",
      "tensor_name:  resnet_v1_50/block3/unit_3/bottleneck_v1/conv3/BatchNorm/moving_mean\n",
      "tensor_name:  resnet_v1_50/block3/unit_1/bottleneck_v1/conv2/BatchNorm/gamma\n",
      "tensor_name:  resnet_v1_50/block3/unit_6/bottleneck_v1/conv2/BatchNorm/gamma\n",
      "tensor_name:  resnet_v1_50/block2/unit_3/bottleneck_v1/conv2/BatchNorm/moving_variance\n",
      "tensor_name:  resnet_v1_50/block3/unit_5/bottleneck_v1/conv3/BatchNorm/gamma\n",
      "tensor_name:  resnet_v1_50/block3/unit_4/bottleneck_v1/conv2/BatchNorm/moving_variance\n"
     ]
    }
   ],
   "source": [
    "import os\n",
    "from tensorflow.python import pywrap_tensorflow\n",
    "\n",
    "reader = pywrap_tensorflow.NewCheckpointReader(\"resnet_v1_50.ckpt\") #tf.train.NewCheckpointReader\n",
    "var_to_shape_map = reader.get_variable_to_shape_map()\n",
    "for key in var_to_shape_map:\n",
    "\tprint(\"tensor_name: \", key)\n",
    "\t# print(reader.get_tensor(k"
   ]
  },
  {
   "cell_type": "code",
   "execution_count": null,
   "metadata": {},
   "outputs": [],
   "source": [
    "reader.get_tensor()"
   ]
  }
 ],
 "metadata": {
  "kernelspec": {
   "display_name": "Python 3",
   "language": "python",
   "name": "python3"
  },
  "language_info": {
   "codemirror_mode": {
    "name": "ipython",
    "version": 3
   },
   "file_extension": ".py",
   "mimetype": "text/x-python",
   "name": "python",
   "nbconvert_exporter": "python",
   "pygments_lexer": "ipython3",
   "version": "3.5.2"
  }
 },
 "nbformat": 4,
 "nbformat_minor": 2
}
