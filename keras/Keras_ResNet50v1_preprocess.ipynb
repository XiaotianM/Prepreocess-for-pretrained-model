{
 "cells": [
  {
   "cell_type": "markdown",
   "metadata": {},
   "source": [
    "# ResNet50 Keras \n",
    "\n",
    "ResNet对图像预处理采用的caffe模式  \n",
    "Keras一共存在3种对图像preprocessing的方法：\n",
    "- tf模式：  \n",
    "        return x = x / 127.5 - 1\n",
    "- torch模式  \n",
    "        x /= 255. \n",
    "        mean = [0.485, 0.456, 0.406]\n",
    "        std = [0.229, 0.224, 0.225]\n",
    "        return (x - mean) / std\n",
    "- caffe模式  \n",
    "        mean = [103.939, 116.779, 123.68] (注意此处为BGR)\n",
    "        return x - mean\n",
    "        注意，keras中model为caffe模式的权重均为BGR模式"
   ]
  },
  {
   "cell_type": "code",
   "execution_count": 1,
   "metadata": {},
   "outputs": [
    {
     "name": "stderr",
     "output_type": "stream",
     "text": [
      "Using TensorFlow backend.\n"
     ]
    }
   ],
   "source": [
    "import keras\n",
    "from keras.preprocessing import image\n",
    "from keras.applications.resnet50 import ResNet50, preprocess_input, decode_predictions\n",
    "import numpy as np"
   ]
  },
  {
   "cell_type": "code",
   "execution_count": 2,
   "metadata": {},
   "outputs": [
    {
     "name": "stdout",
     "output_type": "stream",
     "text": [
      "WARNING:tensorflow:From d:\\python\\lib\\site-packages\\keras\\backend\\tensorflow_backend.py:1264: calling reduce_prod (from tensorflow.python.ops.math_ops) with keep_dims is deprecated and will be removed in a future version.\n",
      "Instructions for updating:\n",
      "keep_dims is deprecated, use keepdims instead\n"
     ]
    }
   ],
   "source": [
    "model = ResNet50(weights=None)\n",
    "model.load_weights('resnet50_weights_tf_dim_ordering_tf_kernels.h5')"
   ]
  },
  {
   "cell_type": "code",
   "execution_count": 3,
   "metadata": {},
   "outputs": [],
   "source": [
    "im = image.load_img(\"1.jpg\", target_size=(224,224))\n",
    "im = image.img_to_array(im)\n",
    "im = np.expand_dims(im, axis=0)\n",
    "im = preprocess_input(im)"
   ]
  },
  {
   "cell_type": "code",
   "execution_count": 4,
   "metadata": {},
   "outputs": [
    {
     "name": "stdout",
     "output_type": "stream",
     "text": [
      "Predicted: [('n02504458', 'African_elephant', 0.9599415), ('n01871265', 'tusker', 0.03337682), ('n02504013', 'Indian_elephant', 0.0030909325)]\n"
     ]
    }
   ],
   "source": [
    "preds = model.predict(im)\n",
    "print('Predicted:', decode_predictions(preds, top=3)[0])"
   ]
  },
  {
   "cell_type": "markdown",
   "metadata": {},
   "source": [
    "直观的图像预处理，Caffe模型需要对图像进行转化成BGR模式"
   ]
  },
  {
   "cell_type": "code",
   "execution_count": 6,
   "metadata": {},
   "outputs": [
    {
     "name": "stdout",
     "output_type": "stream",
     "text": [
      "Predicted: [('n02504458', 'African_elephant', 0.9599414), ('n01871265', 'tusker', 0.033376846), ('n02504013', 'Indian_elephant', 0.0030909441)]\n"
     ]
    }
   ],
   "source": [
    "im = image.load_img(\"1.jpg\", target_size=(224,224))\n",
    "im = image.img_to_array(im)\n",
    "im = im[:,:,::-1] - [103.939, 116.779, 123.68]\n",
    "im = np.expand_dims(im, axis=0)\n",
    "preds = model.predict(im)\n",
    "print('Predicted:', decode_predictions(preds, top=3)[0])"
   ]
  },
  {
   "cell_type": "code",
   "execution_count": null,
   "metadata": {},
   "outputs": [],
   "source": []
  }
 ],
 "metadata": {
  "kernelspec": {
   "display_name": "Python 3",
   "language": "python",
   "name": "python3"
  },
  "language_info": {
   "codemirror_mode": {
    "name": "ipython",
    "version": 3
   },
   "file_extension": ".py",
   "mimetype": "text/x-python",
   "name": "python",
   "nbconvert_exporter": "python",
   "pygments_lexer": "ipython3",
   "version": "3.5.2"
  }
 },
 "nbformat": 4,
 "nbformat_minor": 2
}
