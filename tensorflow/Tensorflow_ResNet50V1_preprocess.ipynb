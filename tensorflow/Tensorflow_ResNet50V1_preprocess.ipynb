{
 "cells": [
  {
   "cell_type": "markdown",
   "metadata": {},
   "source": [
    "# Tensorflow_ResNet50v1_preprocess\n",
    "在本脚本中，我们测试了两种预处理方法对ResNet50_v1的影响\n",
    "1. Slim函数自带的ResNet50预处理方法\n",
    "2. 论文方法，将输入图像减去ImageNet中的均值进行0归一化\n",
    "\n",
    "## 结论：\n",
    "在本测试图片中，我发现第二种方法的预处理要优于Slim自带的预处理方法\n",
    "\n",
    "================================================================================================ "
   ]
  },
  {
   "cell_type": "markdown",
   "metadata": {},
   "source": [
    "### 方法一：Slim函数自带的ResNet50预处理算法：\n",
    "- 给定短边长度，等比例resize图片。\n",
    "- 中心切片。\n",
    "- 减去ImageNet训练集的RGB均值。"
   ]
  },
  {
   "cell_type": "code",
   "execution_count": 4,
   "metadata": {},
   "outputs": [],
   "source": [
    "import tensorflow as tf\n",
    "from tensorflow.contrib.slim import nets\n",
    "slim = tf.contrib.slim\n",
    "from PIL import Image \n",
    "import numpy as np\n",
    "from preprocessing import vgg_preprocessing"
   ]
  },
  {
   "cell_type": "code",
   "execution_count": 5,
   "metadata": {},
   "outputs": [
    {
     "name": "stdout",
     "output_type": "stream",
     "text": [
      "WARNING:tensorflow:From d:\\python\\lib\\site-packages\\tensorflow\\contrib\\slim\\python\\slim\\nets\\resnet_v1.py:210: calling reduce_mean (from tensorflow.python.ops.math_ops) with keep_dims is deprecated and will be removed in a future version.\n",
      "Instructions for updating:\n",
      "keep_dims is deprecated, use keepdims instead\n"
     ]
    }
   ],
   "source": [
    "inputs = tf.placeholder(\"float32\", shape=[None, None, 3], name=\"inputs\")\n",
    "preprocess_inputs = vgg_preprocessing.preprocess_image(inputs, 224, 224, is_training=False)\n",
    "preprocess_inputs = tf.expand_dims(preprocess_inputs, 0)\n",
    "with slim.arg_scope(nets.resnet_v1.resnet_arg_scope()):\n",
    "    net, endpoints = nets.resnet_v1.resnet_v1_50(preprocess_inputs, num_classes=1000, is_training=False)\n",
    "prob = tf.nn.softmax(net)"
   ]
  },
  {
   "cell_type": "code",
   "execution_count": 6,
   "metadata": {},
   "outputs": [
    {
     "name": "stdout",
     "output_type": "stream",
     "text": [
      "INFO:tensorflow:Restoring parameters from resnet_v1_50.ckpt\n"
     ]
    }
   ],
   "source": [
    "sess = tf.InteractiveSession()\n",
    "variables_to_restore = slim.get_variables_to_restore()\n",
    "init_fn = slim.assign_from_checkpoint_fn(\"resnet_v1_50.ckpt\", variables_to_restore, ignore_missing_vars=True)\n",
    "init_fn(sess)"
   ]
  },
  {
   "cell_type": "code",
   "execution_count": 18,
   "metadata": {},
   "outputs": [],
   "source": [
    "im = np.array(Image.open(\"1.jpg\"),dtype=np.float32)"
   ]
  },
  {
   "cell_type": "code",
   "execution_count": 19,
   "metadata": {},
   "outputs": [
    {
     "name": "stdout",
     "output_type": "stream",
     "text": [
      "find the top1 prediction (array([0], dtype=int64), array([0], dtype=int64), array([0], dtype=int64), array([386], dtype=int64))\n",
      "print prob:  0.962141\n"
     ]
    }
   ],
   "source": [
    "t = sess.run(endpoints[\"predictions\"], feed_dict={inputs: im})\n",
    "print(\"find the top1 prediction\",np.where(t==np.max(t)))\n",
    "print(\"print prob: \",t[0][0][0][386])"
   ]
  },
  {
   "cell_type": "code",
   "execution_count": null,
   "metadata": {},
   "outputs": [],
   "source": []
  },
  {
   "cell_type": "markdown",
   "metadata": {},
   "source": [
    "### 方法二：将图像减去ImageNet均值归一化\n",
    "- 输入图像（0-255） substract ImageNet的均值[123.68, 116.78, 103.94]"
   ]
  },
  {
   "cell_type": "code",
   "execution_count": 1,
   "metadata": {},
   "outputs": [],
   "source": [
    "import tensorflow as tf\n",
    "from tensorflow.contrib.slim import nets\n",
    "slim = tf.contrib.slim\n",
    "from PIL import Image \n",
    "import numpy as np"
   ]
  },
  {
   "cell_type": "code",
   "execution_count": 2,
   "metadata": {},
   "outputs": [
    {
     "name": "stdout",
     "output_type": "stream",
     "text": [
      "WARNING:tensorflow:From d:\\python\\lib\\site-packages\\tensorflow\\contrib\\slim\\python\\slim\\nets\\resnet_v1.py:210: calling reduce_mean (from tensorflow.python.ops.math_ops) with keep_dims is deprecated and will be removed in a future version.\n",
      "Instructions for updating:\n",
      "keep_dims is deprecated, use keepdims instead\n"
     ]
    }
   ],
   "source": [
    "inputs = tf.placeholder(\"float32\", shape=[None, None, None, 3], name=\"inputs\")\n",
    "with slim.arg_scope(nets.resnet_v1.resnet_arg_scope()):\n",
    "    net, endpoints = nets.resnet_v1.resnet_v1_50(inputs, num_classes=1000, is_training=False)\n",
    "prob = tf.nn.softmax(net)"
   ]
  },
  {
   "cell_type": "code",
   "execution_count": 3,
   "metadata": {},
   "outputs": [
    {
     "name": "stdout",
     "output_type": "stream",
     "text": [
      "INFO:tensorflow:Restoring parameters from resnet_v1_50.ckpt\n"
     ]
    }
   ],
   "source": [
    "sess = tf.InteractiveSession()\n",
    "variables_to_restore = slim.get_variables_to_restore()\n",
    "init_fn = slim.assign_from_checkpoint_fn(\"resnet_v1_50.ckpt\", variables_to_restore, ignore_missing_vars=True)\n",
    "init_fn(sess)"
   ]
  },
  {
   "cell_type": "code",
   "execution_count": 7,
   "metadata": {},
   "outputs": [],
   "source": [
    "im = np.array(Image.open(\"1.jpg\").resize((224,224)),dtype=np.float32)\n",
    "mean = [123.68, 116.78, 103.94] # RGB\n",
    "im = np.array(im) - mean\n",
    "im = np.expand_dims(im,0)"
   ]
  },
  {
   "cell_type": "code",
   "execution_count": 8,
   "metadata": {},
   "outputs": [
    {
     "name": "stdout",
     "output_type": "stream",
     "text": [
      "find the top1 prediction (array([0], dtype=int64), array([0], dtype=int64), array([0], dtype=int64), array([386], dtype=int64))\n",
      "print prob:  0.971966\n"
     ]
    }
   ],
   "source": [
    "t = sess.run(endpoints[\"predictions\"], feed_dict={inputs: im})\n",
    "print(\"find the top1 prediction\",np.where(t==np.max(t)))\n",
    "print(\"print prob: \",t[0][0][0][386])"
   ]
  },
  {
   "cell_type": "code",
   "execution_count": null,
   "metadata": {},
   "outputs": [],
   "source": []
  }
 ],
 "metadata": {
  "kernelspec": {
   "display_name": "Python 3",
   "language": "python",
   "name": "python3"
  },
  "language_info": {
   "codemirror_mode": {
    "name": "ipython",
    "version": 3
   },
   "file_extension": ".py",
   "mimetype": "text/x-python",
   "name": "python",
   "nbconvert_exporter": "python",
   "pygments_lexer": "ipython3",
   "version": "3.5.2"
  }
 },
 "nbformat": 4,
 "nbformat_minor": 2
}
